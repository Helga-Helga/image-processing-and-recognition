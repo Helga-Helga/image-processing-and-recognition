{
 "cells": [
  {
   "cell_type": "code",
   "execution_count": 1,
   "metadata": {},
   "outputs": [],
   "source": [
    "import os\n",
    "import sys\n",
    "import matplotlib.image as mpimg\n",
    "import matplotlib.pyplot as plt\n",
    "from numpy import (\n",
    "    full,\n",
    "    array,\n",
    ")\n",
    "from ipywidgets import (\n",
    "    interact,\n",
    "    widgets,\n",
    "    Layout,\n",
    ")\n",
    "\n",
    "sys.path.insert(1, '../../lab1-histogram')\n",
    "from utils import rgb2gray\n",
    "from composing_filters import (\n",
    "    shift_left,\n",
    "    shift_right,\n",
    "    shift_up,\n",
    "    shift_down,\n",
    "    box_filter,\n",
    "    sharpening,\n",
    "    smoothing,\n",
    "    gaussian_filter,\n",
    "    contrast_enhancing_filter,\n",
    "    prewitt_filter_x,\n",
    "    prewitt_filter_y,\n",
    "    prewitt_filter,\n",
    "    sobel_filter_x,\n",
    "    sobel_filter_y,\n",
    "    sobel_filter,\n",
    "    roberts_filter_x,\n",
    "    roberts_filter_y,\n",
    "    roberts_filter,\n",
    "    laplacian_filter,\n",
    ")"
   ]
  },
  {
   "cell_type": "code",
   "execution_count": 2,
   "metadata": {},
   "outputs": [],
   "source": [
    "input_image = array(rgb2gray(mpimg.imread(\"../images/ghost.jpg\")))"
   ]
  },
  {
   "cell_type": "code",
   "execution_count": 41,
   "metadata": {},
   "outputs": [],
   "source": [
    "%%capture\n",
    "fig = plt.figure(figsize=(15, 15))\n",
    "\n",
    "ax_orig = fig.add_subplot(131)\n",
    "ax_orig.set_title('Original image')\n",
    "\n",
    "ax_filter = fig.add_subplot(132)\n",
    "ax_filter.set_title('Filter')\n",
    "\n",
    "ax_result = fig.add_subplot(133)\n",
    "ax_result.set_title('Resulting image')\n",
    "\n",
    "for ax in [ax_orig, ax_filter, ax_result]:\n",
    "    ax.set_axis_off()\n",
    "\n",
    "\n",
    "def f(filter_name, filter_size, r, sigma):\n",
    "    ax_orig.imshow(input_image, cmap=\"gray\") \n",
    "    \n",
    "    if filter_name == \"Shift left\":\n",
    "        filter_matrix, resulting_image = shift_left(input_image, filter_size)\n",
    "    elif filter_name == \"Shift right\":\n",
    "        filter_matrix, resulting_image = shift_right(input_image, filter_size)\n",
    "    elif filter_name == \"Shift up\":\n",
    "        filter_matrix, resulting_image = shift_up(input_image, filter_size)\n",
    "    elif filter_name == \"Shift down\":\n",
    "        filter_matrix, resulting_image = shift_down(input_image, filter_size)\n",
    "    elif filter_name == \"Box filter\":\n",
    "        filter_matrix, resulting_image = box_filter(input_image, filter_size)\n",
    "    elif filter_name == \"Sharpening\":\n",
    "        filter_matrix, resulting_image = sharpening(input_image, filter_size)\n",
    "    elif filter_name == \"Smoothing\":\n",
    "        filter_matrix, resulting_image = smoothing(input_image, filter_size, r)\n",
    "    elif filter_name == \"Gaussian filter\":\n",
    "        filter_matrix, resulting_image = gaussian_filter(input_image, filter_size, sigma)\n",
    "    elif filter_name == \"Contrast enhancing\":\n",
    "        filter_matrix, resulting_image = contrast_enhancing_filter(input_image, filter_size)\n",
    "    elif filter_name == \"Prewitt x\":\n",
    "        filter_matrix, resulting_image = prewitt_filter_x(input_image)\n",
    "    elif filter_name == \"Prewitt y\":\n",
    "        filter_matrix, resulting_image = prewitt_filter_y(input_image)\n",
    "    elif filter_name == \"Prewitt\":\n",
    "        filter_matrix, resulting_image = prewitt_filter(input_image)\n",
    "    elif filter_name == \"Sobel x\":\n",
    "        filter_matrix, resulting_image = sobel_filter_x(input_image)\n",
    "    elif filter_name == \"Sobel y\":\n",
    "        filter_matrix, resulting_image = sobel_filter_y(input_image)\n",
    "    elif filter_name == \"Sobel\":\n",
    "        filter_matrix, resulting_image = sobel_filter(input_image)\n",
    "    elif filter_name == \"Roberts x\":\n",
    "        filter_matrix, resulting_image = roberts_filter_x(input_image, filter_size)\n",
    "    elif filter_name == \"Roberts y\":\n",
    "        filter_matrix, resulting_image = roberts_filter_y(input_image, filter_size)\n",
    "    elif filter_name == \"Roberts\":\n",
    "        filter_matrix, resulting_image = roberts_filter(input_image, filter_size)\n",
    "    elif filter_name == \"Laplacian\":\n",
    "        filter_matrix, resulting_image = laplacian_filter(input_image)\n",
    "\n",
    "\n",
    "    ax_filter.imshow(filter_matrix, cmap=\"gray\")\n",
    "    ax_result.imshow(resulting_image, cmap=\"gray\")\n",
    "\n",
    "    fig.canvas.draw()\n",
    "    display(fig)"
   ]
  },
  {
   "cell_type": "code",
   "execution_count": 42,
   "metadata": {},
   "outputs": [
    {
     "data": {
      "application/vnd.jupyter.widget-view+json": {
       "model_id": "4e5f793e089c449b8ee660e0baa6f9a9",
       "version_major": 2,
       "version_minor": 0
      },
      "text/plain": [
       "interactive(children=(ToggleButtons(description='Filter name', options=('Shift left', 'Shift right', 'Shift up…"
      ]
     },
     "metadata": {},
     "output_type": "display_data"
    },
    {
     "data": {
      "text/plain": [
       "<function __main__.f(filter_name, filter_size, r, sigma)>"
      ]
     },
     "execution_count": 42,
     "metadata": {},
     "output_type": "execute_result"
    }
   ],
   "source": [
    "style = {'description_width': '150px'}\n",
    "interact(f, filter_name=widgets.ToggleButtons(\n",
    "            options=[\"Shift left\", \"Shift right\", \"Shift up\", \"Shift down\", \"Box filter\", \"Sharpening\",\n",
    "                     \"Smoothing\", \"Gaussian filter\", \"Contrast enhancing\", \"Prewitt x\", \"Prewitt y\",\n",
    "                     \"Prewitt\", \"Sobel x\", \"Sobel y\", \"Sobel\", \"Roberts x\", \"Roberts y\", \"Roberts\",\n",
    "                     \"Laplacian\"],\n",
    "            description=\"Filter name\", style=style),\n",
    "         filter_size=widgets.IntSlider(min=2, max=33, step=1, value=3,\n",
    "                                       description=\"Filter size\", style=style, layout=Layout(width='90%')),\n",
    "         r=widgets.IntSlider(min=1, max=11, step=1, value=2, description=\"Parameter r\", style=style,\n",
    "                             layout=Layout(width='90%')),\n",
    "         sigma=widgets.IntSlider(min=1, max=11, step=1, value=1, description=\"Sigma\", style=style,\n",
    "                                layout=Layout(width='90%')))"
   ]
  },
  {
   "cell_type": "code",
   "execution_count": null,
   "metadata": {},
   "outputs": [],
   "source": []
  },
  {
   "cell_type": "code",
   "execution_count": null,
   "metadata": {},
   "outputs": [],
   "source": []
  }
 ],
 "metadata": {
  "kernelspec": {
   "display_name": "Python 3",
   "language": "python",
   "name": "python3"
  },
  "language_info": {
   "codemirror_mode": {
    "name": "ipython",
    "version": 3
   },
   "file_extension": ".py",
   "mimetype": "text/x-python",
   "name": "python",
   "nbconvert_exporter": "python",
   "pygments_lexer": "ipython3",
   "version": "3.6.8"
  }
 },
 "nbformat": 4,
 "nbformat_minor": 2
}
