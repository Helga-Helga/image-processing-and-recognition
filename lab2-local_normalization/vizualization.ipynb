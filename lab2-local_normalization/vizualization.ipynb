{
 "cells": [
  {
   "cell_type": "code",
   "execution_count": 1,
   "metadata": {},
   "outputs": [],
   "source": [
    "import os\n",
    "import sys\n",
    "\n",
    "%matplotlib inline\n",
    "\n",
    "import matplotlib\n",
    "import matplotlib.pyplot as plt\n",
    "import matplotlib.image as mpimg\n",
    "from IPython.display import display\n",
    "from numpy import (\n",
    "    array,\n",
    "    float64,\n",
    ")\n",
    "from ipywidgets import (\n",
    "    interact,\n",
    "    widgets,\n",
    "    Layout,\n",
    ")\n",
    "\n",
    "sys.path.insert(1, '../lab1-histogram')\n",
    "from utils import rgb2gray\n",
    "from image_normalization import normalize_image\n",
    "from integral_image import compute_integral_image"
   ]
  },
  {
   "cell_type": "code",
   "execution_count": 2,
   "metadata": {},
   "outputs": [],
   "source": [
    "input_image = array(rgb2gray(mpimg.imread(\"images/text.jpeg\")), dtype=float64)"
   ]
  },
  {
   "cell_type": "code",
   "execution_count": 3,
   "metadata": {},
   "outputs": [],
   "source": [
    "integral_image = compute_integral_image(input_image)\n",
    "integral_image_square = compute_integral_image(input_image, 2)"
   ]
  },
  {
   "cell_type": "code",
   "execution_count": 4,
   "metadata": {},
   "outputs": [
    {
     "name": "stdout",
     "output_type": "stream",
     "text": [
      "Image shape: 164 x 308\n"
     ]
    }
   ],
   "source": [
    "print(\"Image shape: {} x {}\".format(input_image.shape[0], input_image.shape[1]))"
   ]
  },
  {
   "cell_type": "code",
   "execution_count": 5,
   "metadata": {},
   "outputs": [],
   "source": [
    "%%capture\n",
    "INTERSECTION = 2\n",
    "\n",
    "fig = plt.figure(figsize=(15, 15))\n",
    "ax_orig = fig.add_subplot(121)\n",
    "ax_norm = fig.add_subplot(122)\n",
    "\n",
    "for ax in [ax_orig, ax_norm]:\n",
    "    ax.set_axis_off()\n",
    "\n",
    "    \n",
    "def f(grid_size_h, grid_size_v, new_mean, new_dispersion):\n",
    "    ax_orig.imshow(input_image, cmap=\"gray\")\n",
    "    \n",
    "    normalized_image = normalize_image(\n",
    "        input_image, integral_image, integral_image_square,\n",
    "        grid_size_h, grid_size_v, INTERSECTION,\n",
    "        new_mean, new_dispersion)\n",
    "    ax_norm.imshow(normalized_image, cmap=\"gray\")\n",
    "    fig.canvas.draw()\n",
    "    display(fig)"
   ]
  },
  {
   "cell_type": "code",
   "execution_count": 6,
   "metadata": {},
   "outputs": [
    {
     "data": {
      "application/vnd.jupyter.widget-view+json": {
       "model_id": "dc586ea6632f4be9a45743626ad4a288",
       "version_major": 2,
       "version_minor": 0
      },
      "text/plain": [
       "interactive(children=(IntSlider(value=20, description='Horizontal window size', layout=Layout(width='90%'), ma…"
      ]
     },
     "metadata": {},
     "output_type": "display_data"
    },
    {
     "data": {
      "text/plain": [
       "<function __main__.f(grid_size_h, grid_size_v, new_mean, new_dispersion)>"
      ]
     },
     "execution_count": 6,
     "metadata": {},
     "output_type": "execute_result"
    }
   ],
   "source": [
    "style = {'description_width': '150px'}\n",
    "interact(f, grid_size_h=widgets.IntSlider(min=2, max=input_image.shape[0], step=1, value=20,\n",
    "                                          description=\"Horizontal window size\", style=style,\n",
    "                                          layout=Layout(width='90%')),\n",
    "         grid_size_v=widgets.IntSlider(min=2, max=input_image.shape[1], step=1, value=100,\n",
    "                                       description=\"Vertical window size\", style=style,\n",
    "                                       layout=Layout(width='90%')),\n",
    "         new_mean=widgets.IntSlider(min=0, max=255, step=1, value=128, description=\"Mean\", style=style,\n",
    "                                    layout=Layout(width='90%')),\n",
    "         new_dispersion=widgets.IntSlider(min=0, max=255, step=1, value=50, description=\"Dispersion\",\n",
    "                                          style=style, layout=Layout(width='90%')))"
   ]
  },
  {
   "cell_type": "code",
   "execution_count": null,
   "metadata": {},
   "outputs": [],
   "source": []
  }
 ],
 "metadata": {
  "kernelspec": {
   "display_name": "Python 3",
   "language": "python",
   "name": "python3"
  },
  "language_info": {
   "codemirror_mode": {
    "name": "ipython",
    "version": 3
   },
   "file_extension": ".py",
   "mimetype": "text/x-python",
   "name": "python",
   "nbconvert_exporter": "python",
   "pygments_lexer": "ipython3",
   "version": "3.6.8"
  }
 },
 "nbformat": 4,
 "nbformat_minor": 2
}
