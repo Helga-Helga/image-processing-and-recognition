{
 "cells": [
  {
   "cell_type": "code",
   "execution_count": 1,
   "metadata": {},
   "outputs": [],
   "source": [
    "import os\n",
    "import sys\n",
    "import matplotlib.image as mpimg\n",
    "import matplotlib.pyplot as plt\n",
    "from numpy import (\n",
    "    full,\n",
    "    array,\n",
    ")\n",
    "from ipywidgets import (\n",
    "    interact,\n",
    "    widgets,\n",
    "    Layout,\n",
    ")\n",
    "\n",
    "sys.path.insert(1, '../lab1-histogram')\n",
    "from utils import rgb2gray\n",
    "from morphological_operations import (\n",
    "    dilation,\n",
    "    erosion,\n",
    "    closing,\n",
    "    opening,\n",
    "    get_edges,\n",
    ")"
   ]
  },
  {
   "cell_type": "code",
   "execution_count": 2,
   "metadata": {},
   "outputs": [],
   "source": [
    "input_image = array(rgb2gray(mpimg.imread(\"circles.png\")))"
   ]
  },
  {
   "cell_type": "code",
   "execution_count": 3,
   "metadata": {},
   "outputs": [],
   "source": [
    "%%capture\n",
    "last_result = input_image\n",
    "\n",
    "fig = plt.figure(figsize=(15, 15))\n",
    "\n",
    "ax_orig = fig.add_subplot(121)\n",
    "ax_orig.set_title('Original image')\n",
    "\n",
    "ax_result = fig.add_subplot(122)\n",
    "ax_result.set_title('Result image')\n",
    "\n",
    "for ax in [ax_orig, ax_result]:\n",
    "    ax.set_axis_off()\n",
    "\n",
    "\n",
    "def f(window_size, operation, use_result):\n",
    "    global last_result\n",
    "    s = full((window_size, window_size), 1)\n",
    "    ax_orig.imshow(input_image, cmap=\"gray\") \n",
    "    \n",
    "    if use_result:\n",
    "        initial_image = last_result\n",
    "    else:\n",
    "        initial_image = input_image\n",
    "    \n",
    "    if operation == \"Dilation\":\n",
    "        result_image = dilation(initial_image, s)\n",
    "    elif operation == \"Erosion\":\n",
    "        result_image = erosion(initial_image, s)\n",
    "    elif operation == \"Opening\":\n",
    "        result_image = opening(initial_image, s)\n",
    "    elif operation == \"Closing\":\n",
    "        result_image = closing(initial_image, s)\n",
    "    elif operation == \"Getting edges\":\n",
    "        result_image = get_edges(initial_image, s)\n",
    "    \n",
    "    last_result = result_image\n",
    "\n",
    "    ax_result.imshow(result_image, cmap=\"gray\")\n",
    "\n",
    "    fig.canvas.draw()\n",
    "    display(fig)"
   ]
  },
  {
   "cell_type": "code",
   "execution_count": 4,
   "metadata": {},
   "outputs": [
    {
     "data": {
      "application/vnd.jupyter.widget-view+json": {
       "model_id": "8bbbe6bfc06a41128dc7b3438fb815b1",
       "version_major": 2,
       "version_minor": 0
      },
      "text/plain": [
       "interactive(children=(IntSlider(value=5, description='Vertical window size', layout=Layout(width='90%'), max=1…"
      ]
     },
     "metadata": {},
     "output_type": "display_data"
    },
    {
     "data": {
      "text/plain": [
       "<function __main__.f(window_size, operation, use_result)>"
      ]
     },
     "execution_count": 4,
     "metadata": {},
     "output_type": "execute_result"
    }
   ],
   "source": [
    "style = {'description_width': '150px'}\n",
    "interact(f, window_size=widgets.IntSlider(min=3, max=11, step=2, value=5,\n",
    "                                            description=\"Vertical window size\", style=style,\n",
    "                                            layout=Layout(width='90%')),\n",
    "         operation=widgets.ToggleButtons(options=[\"Dilation\", \"Erosion\", \"Opening\", \"Closing\", \"Getting edges\"],\n",
    "                                         description=\"Operation\", style=style),\n",
    "         use_result=widgets.ToggleButton(description='Use result as input',\n",
    "                                    tooltip='Use result as input', style=style))"
   ]
  },
  {
   "cell_type": "code",
   "execution_count": null,
   "metadata": {},
   "outputs": [],
   "source": []
  }
 ],
 "metadata": {
  "kernelspec": {
   "display_name": "Python 3",
   "language": "python",
   "name": "python3"
  },
  "language_info": {
   "codemirror_mode": {
    "name": "ipython",
    "version": 3
   },
   "file_extension": ".py",
   "mimetype": "text/x-python",
   "name": "python",
   "nbconvert_exporter": "python",
   "pygments_lexer": "ipython3",
   "version": "3.6.8"
  }
 },
 "nbformat": 4,
 "nbformat_minor": 2
}
